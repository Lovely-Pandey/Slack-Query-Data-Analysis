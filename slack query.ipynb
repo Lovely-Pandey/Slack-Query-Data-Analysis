{
 "cells": [
  {
   "cell_type": "markdown",
   "id": "f20fe1a2",
   "metadata": {},
   "source": [
    "# Preparing the data for analysis¶\n"
   ]
  },
  {
   "cell_type": "code",
   "execution_count": 1,
   "id": "06621628",
   "metadata": {},
   "outputs": [],
   "source": [
    "import pandas as pd \n",
    "import numpy as np\n",
    "import matplotlib.pyplot as plt\n",
    "import seaborn as sns\n",
    "\n"
   ]
  },
  {
   "cell_type": "code",
   "execution_count": 2,
   "id": "845db031",
   "metadata": {},
   "outputs": [
    {
     "data": {
      "text/html": [
       "<div>\n",
       "<style scoped>\n",
       "    .dataframe tbody tr th:only-of-type {\n",
       "        vertical-align: middle;\n",
       "    }\n",
       "\n",
       "    .dataframe tbody tr th {\n",
       "        vertical-align: top;\n",
       "    }\n",
       "\n",
       "    .dataframe thead th {\n",
       "        text-align: right;\n",
       "    }\n",
       "</style>\n",
       "<table border=\"1\" class=\"dataframe\">\n",
       "  <thead>\n",
       "    <tr style=\"text-align: right;\">\n",
       "      <th></th>\n",
       "      <th>Ticket Id</th>\n",
       "      <th>Student or WP</th>\n",
       "      <th>Program Name</th>\n",
       "      <th>Status (Ticket)</th>\n",
       "      <th>Created Time (Ticket)</th>\n",
       "      <th>Ticket Closed Time</th>\n",
       "      <th>First Response Time</th>\n",
       "      <th>Project Phase</th>\n",
       "    </tr>\n",
       "  </thead>\n",
       "  <tbody>\n",
       "    <tr>\n",
       "      <th>0</th>\n",
       "      <td>6403.0</td>\n",
       "      <td>Working Professionals</td>\n",
       "      <td>Fullstack Program</td>\n",
       "      <td>Closed</td>\n",
       "      <td>5/14/2021 1:09</td>\n",
       "      <td>5/14/2021 19:04</td>\n",
       "      <td>5/14/2021 8:51</td>\n",
       "      <td>trial phase</td>\n",
       "    </tr>\n",
       "    <tr>\n",
       "      <th>1</th>\n",
       "      <td>6415.0</td>\n",
       "      <td>Working Professionals</td>\n",
       "      <td>Backend Program</td>\n",
       "      <td>Duplicate</td>\n",
       "      <td>5/14/2021 10:12</td>\n",
       "      <td>5/14/2021 11:23</td>\n",
       "      <td>NaN</td>\n",
       "      <td>trial phase</td>\n",
       "    </tr>\n",
       "    <tr>\n",
       "      <th>2</th>\n",
       "      <td>6420.0</td>\n",
       "      <td>Working Professionals</td>\n",
       "      <td>Fullstack Program</td>\n",
       "      <td>Closed</td>\n",
       "      <td>5/14/2021 11:46</td>\n",
       "      <td>5/16/2021 0:09</td>\n",
       "      <td>5/14/2021 18:14</td>\n",
       "      <td>trial phase</td>\n",
       "    </tr>\n",
       "    <tr>\n",
       "      <th>3</th>\n",
       "      <td>6402.0</td>\n",
       "      <td>Student</td>\n",
       "      <td>Fullstack Program</td>\n",
       "      <td>Closed</td>\n",
       "      <td>5/14/2021 1:08</td>\n",
       "      <td>5/14/2021 19:04</td>\n",
       "      <td>5/14/2021 14:45</td>\n",
       "      <td>fullstack-phase-1</td>\n",
       "    </tr>\n",
       "    <tr>\n",
       "      <th>4</th>\n",
       "      <td>6423.0</td>\n",
       "      <td>Working Professionals</td>\n",
       "      <td>Fellowship Program</td>\n",
       "      <td>Closed</td>\n",
       "      <td>5/14/2021 12:17</td>\n",
       "      <td>5/14/2021 20:39</td>\n",
       "      <td>5/14/2021 12:21</td>\n",
       "      <td>trial phase</td>\n",
       "    </tr>\n",
       "    <tr>\n",
       "      <th>...</th>\n",
       "      <td>...</td>\n",
       "      <td>...</td>\n",
       "      <td>...</td>\n",
       "      <td>...</td>\n",
       "      <td>...</td>\n",
       "      <td>...</td>\n",
       "      <td>...</td>\n",
       "      <td>...</td>\n",
       "    </tr>\n",
       "    <tr>\n",
       "      <th>476</th>\n",
       "      <td>NaN</td>\n",
       "      <td>NaN</td>\n",
       "      <td>NaN</td>\n",
       "      <td>NaN</td>\n",
       "      <td>NaN</td>\n",
       "      <td>NaN</td>\n",
       "      <td>NaN</td>\n",
       "      <td>NaN</td>\n",
       "    </tr>\n",
       "    <tr>\n",
       "      <th>477</th>\n",
       "      <td>NaN</td>\n",
       "      <td>NaN</td>\n",
       "      <td>NaN</td>\n",
       "      <td>NaN</td>\n",
       "      <td>NaN</td>\n",
       "      <td>NaN</td>\n",
       "      <td>NaN</td>\n",
       "      <td>NaN</td>\n",
       "    </tr>\n",
       "    <tr>\n",
       "      <th>478</th>\n",
       "      <td>NaN</td>\n",
       "      <td>NaN</td>\n",
       "      <td>NaN</td>\n",
       "      <td>NaN</td>\n",
       "      <td>NaN</td>\n",
       "      <td>NaN</td>\n",
       "      <td>NaN</td>\n",
       "      <td>NaN</td>\n",
       "    </tr>\n",
       "    <tr>\n",
       "      <th>479</th>\n",
       "      <td>NaN</td>\n",
       "      <td>NaN</td>\n",
       "      <td>NaN</td>\n",
       "      <td>NaN</td>\n",
       "      <td>NaN</td>\n",
       "      <td>NaN</td>\n",
       "      <td>NaN</td>\n",
       "      <td>NaN</td>\n",
       "    </tr>\n",
       "    <tr>\n",
       "      <th>480</th>\n",
       "      <td>NaN</td>\n",
       "      <td>NaN</td>\n",
       "      <td>NaN</td>\n",
       "      <td>NaN</td>\n",
       "      <td>NaN</td>\n",
       "      <td>NaN</td>\n",
       "      <td>NaN</td>\n",
       "      <td>NaN</td>\n",
       "    </tr>\n",
       "  </tbody>\n",
       "</table>\n",
       "<p>481 rows × 8 columns</p>\n",
       "</div>"
      ],
      "text/plain": [
       "     Ticket Id          Student or WP        Program Name Status (Ticket)  \\\n",
       "0       6403.0  Working Professionals   Fullstack Program          Closed   \n",
       "1       6415.0  Working Professionals     Backend Program       Duplicate   \n",
       "2       6420.0  Working Professionals   Fullstack Program          Closed   \n",
       "3       6402.0                Student   Fullstack Program          Closed   \n",
       "4       6423.0  Working Professionals  Fellowship Program          Closed   \n",
       "..         ...                    ...                 ...             ...   \n",
       "476        NaN                    NaN                 NaN             NaN   \n",
       "477        NaN                    NaN                 NaN             NaN   \n",
       "478        NaN                    NaN                 NaN             NaN   \n",
       "479        NaN                    NaN                 NaN             NaN   \n",
       "480        NaN                    NaN                 NaN             NaN   \n",
       "\n",
       "    Created Time (Ticket) Ticket Closed Time First Response Time  \\\n",
       "0          5/14/2021 1:09    5/14/2021 19:04      5/14/2021 8:51   \n",
       "1         5/14/2021 10:12    5/14/2021 11:23                 NaN   \n",
       "2         5/14/2021 11:46     5/16/2021 0:09     5/14/2021 18:14   \n",
       "3          5/14/2021 1:08    5/14/2021 19:04     5/14/2021 14:45   \n",
       "4         5/14/2021 12:17    5/14/2021 20:39     5/14/2021 12:21   \n",
       "..                    ...                ...                 ...   \n",
       "476                   NaN                NaN                 NaN   \n",
       "477                   NaN                NaN                 NaN   \n",
       "478                   NaN                NaN                 NaN   \n",
       "479                   NaN                NaN                 NaN   \n",
       "480                   NaN                NaN                 NaN   \n",
       "\n",
       "         Project Phase  \n",
       "0          trial phase  \n",
       "1          trial phase  \n",
       "2          trial phase  \n",
       "3    fullstack-phase-1  \n",
       "4          trial phase  \n",
       "..                 ...  \n",
       "476                NaN  \n",
       "477                NaN  \n",
       "478                NaN  \n",
       "479                NaN  \n",
       "480                NaN  \n",
       "\n",
       "[481 rows x 8 columns]"
      ]
     },
     "execution_count": 2,
     "metadata": {},
     "output_type": "execute_result"
    }
   ],
   "source": [
    "df=pd.read_csv(r\"C:\\Users\\ASUS\\Desktop\\slack query\\Dataset (2).csv\")\n",
    "df"
   ]
  },
  {
   "cell_type": "code",
   "execution_count": 3,
   "id": "fa92d28a",
   "metadata": {},
   "outputs": [
    {
     "data": {
      "text/plain": [
       "(481, 8)"
      ]
     },
     "execution_count": 3,
     "metadata": {},
     "output_type": "execute_result"
    }
   ],
   "source": [
    "df.shape\n",
    "\n"
   ]
  },
  {
   "cell_type": "code",
   "execution_count": 4,
   "id": "7a19f731",
   "metadata": {},
   "outputs": [
    {
     "data": {
      "text/html": [
       "<div>\n",
       "<style scoped>\n",
       "    .dataframe tbody tr th:only-of-type {\n",
       "        vertical-align: middle;\n",
       "    }\n",
       "\n",
       "    .dataframe tbody tr th {\n",
       "        vertical-align: top;\n",
       "    }\n",
       "\n",
       "    .dataframe thead th {\n",
       "        text-align: right;\n",
       "    }\n",
       "</style>\n",
       "<table border=\"1\" class=\"dataframe\">\n",
       "  <thead>\n",
       "    <tr style=\"text-align: right;\">\n",
       "      <th></th>\n",
       "      <th>Ticket Id</th>\n",
       "      <th>Student or WP</th>\n",
       "      <th>Program Name</th>\n",
       "      <th>Status (Ticket)</th>\n",
       "      <th>Created Time (Ticket)</th>\n",
       "      <th>Ticket Closed Time</th>\n",
       "      <th>First Response Time</th>\n",
       "      <th>Project Phase</th>\n",
       "    </tr>\n",
       "  </thead>\n",
       "  <tbody>\n",
       "    <tr>\n",
       "      <th>0</th>\n",
       "      <td>6403.0</td>\n",
       "      <td>Working Professionals</td>\n",
       "      <td>Fullstack Program</td>\n",
       "      <td>Closed</td>\n",
       "      <td>5/14/2021 1:09</td>\n",
       "      <td>5/14/2021 19:04</td>\n",
       "      <td>5/14/2021 8:51</td>\n",
       "      <td>trial phase</td>\n",
       "    </tr>\n",
       "    <tr>\n",
       "      <th>1</th>\n",
       "      <td>6415.0</td>\n",
       "      <td>Working Professionals</td>\n",
       "      <td>Backend Program</td>\n",
       "      <td>Duplicate</td>\n",
       "      <td>5/14/2021 10:12</td>\n",
       "      <td>5/14/2021 11:23</td>\n",
       "      <td>NaN</td>\n",
       "      <td>trial phase</td>\n",
       "    </tr>\n",
       "  </tbody>\n",
       "</table>\n",
       "</div>"
      ],
      "text/plain": [
       "   Ticket Id          Student or WP       Program Name Status (Ticket)  \\\n",
       "0     6403.0  Working Professionals  Fullstack Program          Closed   \n",
       "1     6415.0  Working Professionals    Backend Program       Duplicate   \n",
       "\n",
       "  Created Time (Ticket) Ticket Closed Time First Response Time Project Phase  \n",
       "0        5/14/2021 1:09    5/14/2021 19:04      5/14/2021 8:51   trial phase  \n",
       "1       5/14/2021 10:12    5/14/2021 11:23                 NaN   trial phase  "
      ]
     },
     "execution_count": 4,
     "metadata": {},
     "output_type": "execute_result"
    }
   ],
   "source": [
    "\n",
    "df.head(2)"
   ]
  },
  {
   "cell_type": "markdown",
   "id": "421de5a7",
   "metadata": {},
   "source": [
    "# 1.Check the Datatypes and convert relevant columns to Date and Time format."
   ]
  },
  {
   "cell_type": "code",
   "execution_count": 5,
   "id": "4bd3dcfa",
   "metadata": {},
   "outputs": [
    {
     "data": {
      "text/plain": [
       "Ticket Id                float64\n",
       "Student or WP             object\n",
       "Program Name              object\n",
       "Status (Ticket)           object\n",
       "Created Time (Ticket)     object\n",
       "Ticket Closed Time        object\n",
       "First Response Time       object\n",
       "Project Phase             object\n",
       "dtype: object"
      ]
     },
     "execution_count": 5,
     "metadata": {},
     "output_type": "execute_result"
    }
   ],
   "source": [
    "df.dtypes\n",
    "\n",
    "\n",
    "# data type change"
   ]
  },
  {
   "cell_type": "code",
   "execution_count": 6,
   "id": "b1c3315b",
   "metadata": {},
   "outputs": [],
   "source": [
    "df[\"Created Time (Ticket)\"]=pd.to_datetime(df[\"Created Time (Ticket)\"])\n",
    "df[\"Ticket Closed Time\"]=pd.to_datetime(df[\"Ticket Closed Time\"],errors=\"coerce\")\n",
    "df[\"First Response Time\"]=pd.to_datetime(df[\"First Response Time\"])"
   ]
  },
  {
   "cell_type": "code",
   "execution_count": 7,
   "id": "b6620f25",
   "metadata": {
    "scrolled": true
   },
   "outputs": [
    {
     "data": {
      "text/plain": [
       "Ticket Id                       float64\n",
       "Student or WP                    object\n",
       "Program Name                     object\n",
       "Status (Ticket)                  object\n",
       "Created Time (Ticket)    datetime64[ns]\n",
       "Ticket Closed Time       datetime64[ns]\n",
       "First Response Time      datetime64[ns]\n",
       "Project Phase                    object\n",
       "dtype: object"
      ]
     },
     "execution_count": 7,
     "metadata": {},
     "output_type": "execute_result"
    }
   ],
   "source": [
    "df.dtypes"
   ]
  },
  {
   "cell_type": "markdown",
   "id": "12957942",
   "metadata": {},
   "source": [
    "#### all the relevant column is converted to datetime"
   ]
  },
  {
   "cell_type": "markdown",
   "id": "c8a43bb4",
   "metadata": {},
   "source": [
    "# 2. Fill Missing Values with Appropriate Method."
   ]
  },
  {
   "cell_type": "code",
   "execution_count": 8,
   "id": "7f141d6e",
   "metadata": {},
   "outputs": [
    {
     "data": {
      "text/plain": [
       "First Response Time      115\n",
       "Ticket Closed Time        13\n",
       "Ticket Id                  5\n",
       "Student or WP              5\n",
       "Program Name               5\n",
       "Status (Ticket)            5\n",
       "Created Time (Ticket)      5\n",
       "Project Phase              5\n",
       "dtype: int64"
      ]
     },
     "execution_count": 8,
     "metadata": {},
     "output_type": "execute_result"
    }
   ],
   "source": [
    "df.isnull().sum().sort_values(ascending=False)"
   ]
  },
  {
   "cell_type": "code",
   "execution_count": 9,
   "id": "3856c6dd",
   "metadata": {
    "scrolled": true
   },
   "outputs": [
    {
     "data": {
      "text/html": [
       "<div>\n",
       "<style scoped>\n",
       "    .dataframe tbody tr th:only-of-type {\n",
       "        vertical-align: middle;\n",
       "    }\n",
       "\n",
       "    .dataframe tbody tr th {\n",
       "        vertical-align: top;\n",
       "    }\n",
       "\n",
       "    .dataframe thead th {\n",
       "        text-align: right;\n",
       "    }\n",
       "</style>\n",
       "<table border=\"1\" class=\"dataframe\">\n",
       "  <thead>\n",
       "    <tr style=\"text-align: right;\">\n",
       "      <th></th>\n",
       "      <th>Ticket Id</th>\n",
       "      <th>Student or WP</th>\n",
       "      <th>Program Name</th>\n",
       "      <th>Status (Ticket)</th>\n",
       "      <th>Created Time (Ticket)</th>\n",
       "      <th>Ticket Closed Time</th>\n",
       "      <th>First Response Time</th>\n",
       "      <th>Project Phase</th>\n",
       "    </tr>\n",
       "  </thead>\n",
       "  <tbody>\n",
       "    <tr>\n",
       "      <th>0</th>\n",
       "      <td>6403.0</td>\n",
       "      <td>Working Professionals</td>\n",
       "      <td>Fullstack Program</td>\n",
       "      <td>Closed</td>\n",
       "      <td>2021-05-14 01:09:00</td>\n",
       "      <td>2021-05-14 19:04:00</td>\n",
       "      <td>2021-05-14 08:51:00</td>\n",
       "      <td>trial phase</td>\n",
       "    </tr>\n",
       "    <tr>\n",
       "      <th>1</th>\n",
       "      <td>6415.0</td>\n",
       "      <td>Working Professionals</td>\n",
       "      <td>Backend Program</td>\n",
       "      <td>Duplicate</td>\n",
       "      <td>2021-05-14 10:12:00</td>\n",
       "      <td>2021-05-14 11:23:00</td>\n",
       "      <td>NaT</td>\n",
       "      <td>trial phase</td>\n",
       "    </tr>\n",
       "  </tbody>\n",
       "</table>\n",
       "</div>"
      ],
      "text/plain": [
       "   Ticket Id          Student or WP       Program Name Status (Ticket)  \\\n",
       "0     6403.0  Working Professionals  Fullstack Program          Closed   \n",
       "1     6415.0  Working Professionals    Backend Program       Duplicate   \n",
       "\n",
       "  Created Time (Ticket)  Ticket Closed Time First Response Time Project Phase  \n",
       "0   2021-05-14 01:09:00 2021-05-14 19:04:00 2021-05-14 08:51:00   trial phase  \n",
       "1   2021-05-14 10:12:00 2021-05-14 11:23:00                 NaT   trial phase  "
      ]
     },
     "execution_count": 9,
     "metadata": {},
     "output_type": "execute_result"
    }
   ],
   "source": [
    "df.head(2)"
   ]
  },
  {
   "cell_type": "markdown",
   "id": "81fb35ae",
   "metadata": {},
   "source": [
    "#### we are about to drop Ticket Id column because without value in ticket id column no further analysis is possible ."
   ]
  },
  {
   "cell_type": "code",
   "execution_count": 10,
   "id": "98aed3d2",
   "metadata": {},
   "outputs": [],
   "source": [
    "df.dropna(axis=\"rows\",how=\"any\",subset=[\"Ticket Id\"],inplace=True)"
   ]
  },
  {
   "cell_type": "code",
   "execution_count": 11,
   "id": "7365be5e",
   "metadata": {
    "scrolled": true
   },
   "outputs": [
    {
     "data": {
      "text/plain": [
       "First Response Time      110\n",
       "Ticket Closed Time         8\n",
       "Ticket Id                  0\n",
       "Student or WP              0\n",
       "Program Name               0\n",
       "Status (Ticket)            0\n",
       "Created Time (Ticket)      0\n",
       "Project Phase              0\n",
       "dtype: int64"
      ]
     },
     "execution_count": 11,
     "metadata": {},
     "output_type": "execute_result"
    }
   ],
   "source": [
    "df.isnull().sum().sort_values(ascending=False)"
   ]
  },
  {
   "cell_type": "markdown",
   "id": "28dc3197",
   "metadata": {},
   "source": [
    "### \n",
    "### After dealing with Ticket id column null values , now we have only  two column which have null values  "
   ]
  },
  {
   "cell_type": "markdown",
   "id": "faa9e566",
   "metadata": {},
   "source": [
    "#### Because,in remaining record we dont have any null value in ticket id column so it is not good idea that we drop other values thats why it is good to replace with mean."
   ]
  },
  {
   "cell_type": "code",
   "execution_count": 12,
   "id": "d04943ab",
   "metadata": {},
   "outputs": [],
   "source": [
    "df[\"First Response Time\"].fillna(df[\"First Response Time\"].mean(),inplace=True)"
   ]
  },
  {
   "cell_type": "code",
   "execution_count": 13,
   "id": "1d74212b",
   "metadata": {},
   "outputs": [],
   "source": [
    "df[\"Ticket Closed Time\"].fillna(df[\"Ticket Closed Time\"].mean(),inplace=True)"
   ]
  },
  {
   "cell_type": "code",
   "execution_count": 14,
   "id": "821a0b70",
   "metadata": {
    "scrolled": false
   },
   "outputs": [
    {
     "data": {
      "text/plain": [
       "Ticket Id                0\n",
       "Student or WP            0\n",
       "Program Name             0\n",
       "Status (Ticket)          0\n",
       "Created Time (Ticket)    0\n",
       "Ticket Closed Time       0\n",
       "First Response Time      0\n",
       "Project Phase            0\n",
       "dtype: int64"
      ]
     },
     "execution_count": 14,
     "metadata": {},
     "output_type": "execute_result"
    }
   ],
   "source": [
    "df.isnull().sum().sort_values(ascending=False)"
   ]
  },
  {
   "cell_type": "markdown",
   "id": "b5fe9f21",
   "metadata": {},
   "source": [
    "### To deal with Ticket Closed Time and First Response Time column null value I replaced with mean of respective data"
   ]
  },
  {
   "cell_type": "markdown",
   "id": "f323586d",
   "metadata": {},
   "source": [
    "# 3 Check how many Students and Work Professionals are raising queries, who’s queries are more."
   ]
  },
  {
   "cell_type": "code",
   "execution_count": 15,
   "metadata": {},
   "outputs": [
    {
     "data": {
      "text/plain": [
       "(476, 8)"
      ]
     },
     "execution_count": 15,
     "metadata": {},
     "output_type": "execute_result"
    }
   ],
   "source": [
    "df.shape"
   ]
  },
  {
   "cell_type": "code",
   "execution_count": 16,
   "id": "baa2e7b5",
   "metadata": {
    "scrolled": true
   },
   "outputs": [
    {
     "data": {
      "text/html": [
       "<div>\n",
       "<style scoped>\n",
       "    .dataframe tbody tr th:only-of-type {\n",
       "        vertical-align: middle;\n",
       "    }\n",
       "\n",
       "    .dataframe tbody tr th {\n",
       "        vertical-align: top;\n",
       "    }\n",
       "\n",
       "    .dataframe thead th {\n",
       "        text-align: right;\n",
       "    }\n",
       "</style>\n",
       "<table border=\"1\" class=\"dataframe\">\n",
       "  <thead>\n",
       "    <tr style=\"text-align: right;\">\n",
       "      <th></th>\n",
       "      <th>Student or WP</th>\n",
       "      <th>count</th>\n",
       "    </tr>\n",
       "  </thead>\n",
       "  <tbody>\n",
       "    <tr>\n",
       "      <th>0</th>\n",
       "      <td>Working Professionals</td>\n",
       "      <td>328</td>\n",
       "    </tr>\n",
       "    <tr>\n",
       "      <th>1</th>\n",
       "      <td>Student</td>\n",
       "      <td>148</td>\n",
       "    </tr>\n",
       "  </tbody>\n",
       "</table>\n",
       "</div>"
      ],
      "text/plain": [
       "           Student or WP  count\n",
       "0  Working Professionals    328\n",
       "1                Student    148"
      ]
     },
     "execution_count": 16,
     "metadata": {},
     "output_type": "execute_result"
    }
   ],
   "source": [
    "\n",
    "\n",
    "df[\"Student or WP\"].value_counts().reset_index()\n"
   ]
  },
  {
   "cell_type": "code",
   "execution_count": 17,
   "id": "b7e62332",
   "metadata": {
    "scrolled": false
   },
   "outputs": [
    {
     "data": {
      "image/png": "[encoded data removed]",
      "text/plain": [
       "<Figure size 1000x500 with 1 Axes>"
      ]
     },
     "metadata": {},
     "output_type": "display_data"
    }
   ],
   "source": [
    "plt.figure(figsize=(10,5))\n",
    "sns.countplot(x=\"Student or WP\",hue=\"Student or WP\",data=df)\n",
    "plt.show()"
   ]
  },
  {
   "cell_type": "markdown",
   "id": "11365e36",
   "metadata": {},
   "source": [
    "### 148 students are raising queries and 328 working professionals are raising query"
   ]
  },
  {
   "cell_type": "markdown",
   "id": "7d7f137e",
   "metadata": {},
   "source": [
    "# 4.What is the Average time taken to respond to a query?"
   ]
  },
  {
   "cell_type": "code",
   "execution_count": 18,
   "id": "6550a2cf",
   "metadata": {},
   "outputs": [],
   "source": [
    "from datetime import datetime\n"
   ]
  },
  {
   "cell_type": "code",
   "execution_count": 19,
   "id": "fd794e6d",
   "metadata": {
    "scrolled": false
   },
   "outputs": [],
   "source": [
    "time=df[\"First Response Time\"]-df[\"Created Time (Ticket)\"]"
   ]
  },
  {
   "cell_type": "code",
   "execution_count": 20,
   "id": "205f3e29",
   "metadata": {},
   "outputs": [
    {
     "data": {
      "text/plain": [
       "0                 0 days 07:42:00\n",
       "1       3 days 15:06:34.590163712\n",
       "2                 0 days 06:28:00\n",
       "3                 0 days 13:37:00\n",
       "4                 0 days 00:04:00\n",
       "                  ...            \n",
       "471               0 days 00:03:00\n",
       "472               0 days 00:59:00\n",
       "473   -3 days +02:08:34.590163712\n",
       "474   -3 days +01:39:34.590163712\n",
       "475               0 days 00:49:00\n",
       "Length: 476, dtype: timedelta64[ns]"
      ]
     },
     "execution_count": 20,
     "metadata": {},
     "output_type": "execute_result"
    }
   ],
   "source": [
    "time"
   ]
  },
  {
   "cell_type": "code",
   "execution_count": 21,
   "id": "ca4b4b15",
   "metadata": {},
   "outputs": [
    {
     "data": {
      "text/plain": [
       "Timedelta('0 days 06:06:50.976718504')"
      ]
     },
     "execution_count": 21,
     "metadata": {},
     "output_type": "execute_result"
    }
   ],
   "source": [
    "Average_time=time.sort_values().sum()/476\n",
    "Average_time\n"
   ]
  },
  {
   "cell_type": "markdown",
   "id": "1debe2c2",
   "metadata": {},
   "source": [
    "#### The average time to respond a query is 10:17:40.966386554"
   ]
  },
  {
   "cell_type": "markdown",
   "id": "1035db17",
   "metadata": {},
   "source": [
    "# 5.List down top 10 queries that took longest time to resolve."
   ]
  },
  {
   "cell_type": "code",
   "execution_count": 22,
   "id": "23807c00",
   "metadata": {},
   "outputs": [],
   "source": [
    "df[\"duration\"]=df[\"Ticket Closed Time\"]-df[\"Created Time (Ticket)\"]"
   ]
  },
  {
   "cell_type": "code",
   "execution_count": 23,
   "id": "dd655e5c",
   "metadata": {},
   "outputs": [],
   "source": [
    "df.sort_values(\"duration\",ascending=False,inplace=True)"
   ]
  },
  {
   "cell_type": "code",
   "execution_count": 24,
   "id": "13e50c6c",
   "metadata": {
    "scrolled": false
   },
   "outputs": [
    {
     "data": {
      "text/html": [
       "<div>\n",
       "<style scoped>\n",
       "    .dataframe tbody tr th:only-of-type {\n",
       "        vertical-align: middle;\n",
       "    }\n",
       "\n",
       "    .dataframe tbody tr th {\n",
       "        vertical-align: top;\n",
       "    }\n",
       "\n",
       "    .dataframe thead th {\n",
       "        text-align: right;\n",
       "    }\n",
       "</style>\n",
       "<table border=\"1\" class=\"dataframe\">\n",
       "  <thead>\n",
       "    <tr style=\"text-align: right;\">\n",
       "      <th></th>\n",
       "      <th>Ticket Id</th>\n",
       "      <th>Student or WP</th>\n",
       "      <th>Program Name</th>\n",
       "      <th>Status (Ticket)</th>\n",
       "      <th>Created Time (Ticket)</th>\n",
       "      <th>Ticket Closed Time</th>\n",
       "      <th>First Response Time</th>\n",
       "      <th>Project Phase</th>\n",
       "      <th>duration</th>\n",
       "    </tr>\n",
       "  </thead>\n",
       "  <tbody>\n",
       "    <tr>\n",
       "      <th>41</th>\n",
       "      <td>6525.0</td>\n",
       "      <td>Student</td>\n",
       "      <td>Fullstack Program</td>\n",
       "      <td>Closed</td>\n",
       "      <td>2021-05-14 23:03:00</td>\n",
       "      <td>2021-05-21 17:53:00</td>\n",
       "      <td>2021-05-15 11:38:00</td>\n",
       "      <td>fullstack-phase-1</td>\n",
       "      <td>6 days 18:50:00</td>\n",
       "    </tr>\n",
       "    <tr>\n",
       "      <th>179</th>\n",
       "      <td>6748.0</td>\n",
       "      <td>Working Professionals</td>\n",
       "      <td>Backend Program</td>\n",
       "      <td>Closed</td>\n",
       "      <td>2021-05-16 20:49:00</td>\n",
       "      <td>2021-05-21 17:44:00</td>\n",
       "      <td>2021-05-18 18:16:00</td>\n",
       "      <td>backend-phase-3</td>\n",
       "      <td>4 days 20:55:00</td>\n",
       "    </tr>\n",
       "    <tr>\n",
       "      <th>7</th>\n",
       "      <td>6405.0</td>\n",
       "      <td>Student</td>\n",
       "      <td>Fullstack Program</td>\n",
       "      <td>Closed</td>\n",
       "      <td>2021-05-14 01:23:00</td>\n",
       "      <td>2021-05-18 19:15:00</td>\n",
       "      <td>2021-05-14 14:15:00</td>\n",
       "      <td>fullstack-phase-2</td>\n",
       "      <td>4 days 17:52:00</td>\n",
       "    </tr>\n",
       "    <tr>\n",
       "      <th>39</th>\n",
       "      <td>6505.0</td>\n",
       "      <td>Working Professionals</td>\n",
       "      <td>Backend Program</td>\n",
       "      <td>Closed</td>\n",
       "      <td>2021-05-14 20:38:00</td>\n",
       "      <td>2021-05-19 10:54:00</td>\n",
       "      <td>2021-05-14 20:44:00</td>\n",
       "      <td>backend-phase1</td>\n",
       "      <td>4 days 14:16:00</td>\n",
       "    </tr>\n",
       "    <tr>\n",
       "      <th>225</th>\n",
       "      <td>6776.0</td>\n",
       "      <td>Working Professionals</td>\n",
       "      <td>Backend Program</td>\n",
       "      <td>Closed</td>\n",
       "      <td>2021-05-17 10:26:00</td>\n",
       "      <td>2021-05-21 21:39:00</td>\n",
       "      <td>2021-05-18 18:16:00</td>\n",
       "      <td>fullstack-phase-1</td>\n",
       "      <td>4 days 11:13:00</td>\n",
       "    </tr>\n",
       "    <tr>\n",
       "      <th>65</th>\n",
       "      <td>6508.0</td>\n",
       "      <td>Working Professionals</td>\n",
       "      <td>Backend Program</td>\n",
       "      <td>Closed</td>\n",
       "      <td>2021-05-14 20:40:00</td>\n",
       "      <td>2021-05-18 22:11:00</td>\n",
       "      <td>2021-05-14 22:35:00</td>\n",
       "      <td>system-issues</td>\n",
       "      <td>4 days 01:31:00</td>\n",
       "    </tr>\n",
       "    <tr>\n",
       "      <th>102</th>\n",
       "      <td>6633.0</td>\n",
       "      <td>Student</td>\n",
       "      <td>Fullstack Program</td>\n",
       "      <td>Closed</td>\n",
       "      <td>2021-05-16 12:09:00</td>\n",
       "      <td>2021-05-20 11:24:00</td>\n",
       "      <td>2021-05-16 20:20:00</td>\n",
       "      <td>fullstack-phase-4</td>\n",
       "      <td>3 days 23:15:00</td>\n",
       "    </tr>\n",
       "    <tr>\n",
       "      <th>113</th>\n",
       "      <td>6642.0</td>\n",
       "      <td>Working Professionals</td>\n",
       "      <td>Backend Program</td>\n",
       "      <td>Closed</td>\n",
       "      <td>2021-05-16 12:10:00</td>\n",
       "      <td>2021-05-20 11:24:00</td>\n",
       "      <td>2021-05-16 12:11:00</td>\n",
       "      <td>backend-phase2</td>\n",
       "      <td>3 days 23:14:00</td>\n",
       "    </tr>\n",
       "    <tr>\n",
       "      <th>9</th>\n",
       "      <td>6411.0</td>\n",
       "      <td>Working Professionals</td>\n",
       "      <td>Backend Program</td>\n",
       "      <td>Closed</td>\n",
       "      <td>2021-05-14 02:15:00</td>\n",
       "      <td>2021-05-17 22:19:00</td>\n",
       "      <td>2021-05-14 11:54:00</td>\n",
       "      <td>backend-phase2</td>\n",
       "      <td>3 days 20:04:00</td>\n",
       "    </tr>\n",
       "    <tr>\n",
       "      <th>47</th>\n",
       "      <td>6548.0</td>\n",
       "      <td>Student</td>\n",
       "      <td>Fullstack Program</td>\n",
       "      <td>Closed</td>\n",
       "      <td>2021-05-15 10:38:00</td>\n",
       "      <td>2021-05-18 19:15:00</td>\n",
       "      <td>2021-05-15 12:28:00</td>\n",
       "      <td>trial phase</td>\n",
       "      <td>3 days 08:37:00</td>\n",
       "    </tr>\n",
       "  </tbody>\n",
       "</table>\n",
       "</div>"
      ],
      "text/plain": [
       "     Ticket Id          Student or WP       Program Name Status (Ticket)  \\\n",
       "41      6525.0                Student  Fullstack Program          Closed   \n",
       "179     6748.0  Working Professionals    Backend Program          Closed   \n",
       "7       6405.0                Student  Fullstack Program          Closed   \n",
       "39      6505.0  Working Professionals    Backend Program          Closed   \n",
       "225     6776.0  Working Professionals    Backend Program          Closed   \n",
       "65      6508.0  Working Professionals    Backend Program          Closed   \n",
       "102     6633.0                Student  Fullstack Program          Closed   \n",
       "113     6642.0  Working Professionals    Backend Program          Closed   \n",
       "9       6411.0  Working Professionals    Backend Program          Closed   \n",
       "47      6548.0                Student  Fullstack Program          Closed   \n",
       "\n",
       "    Created Time (Ticket)  Ticket Closed Time First Response Time  \\\n",
       "41    2021-05-14 23:03:00 2021-05-21 17:53:00 2021-05-15 11:38:00   \n",
       "179   2021-05-16 20:49:00 2021-05-21 17:44:00 2021-05-18 18:16:00   \n",
       "7     2021-05-14 01:23:00 2021-05-18 19:15:00 2021-05-14 14:15:00   \n",
       "39    2021-05-14 20:38:00 2021-05-19 10:54:00 2021-05-14 20:44:00   \n",
       "225   2021-05-17 10:26:00 2021-05-21 21:39:00 2021-05-18 18:16:00   \n",
       "65    2021-05-14 20:40:00 2021-05-18 22:11:00 2021-05-14 22:35:00   \n",
       "102   2021-05-16 12:09:00 2021-05-20 11:24:00 2021-05-16 20:20:00   \n",
       "113   2021-05-16 12:10:00 2021-05-20 11:24:00 2021-05-16 12:11:00   \n",
       "9     2021-05-14 02:15:00 2021-05-17 22:19:00 2021-05-14 11:54:00   \n",
       "47    2021-05-15 10:38:00 2021-05-18 19:15:00 2021-05-15 12:28:00   \n",
       "\n",
       "         Project Phase        duration  \n",
       "41   fullstack-phase-1 6 days 18:50:00  \n",
       "179    backend-phase-3 4 days 20:55:00  \n",
       "7    fullstack-phase-2 4 days 17:52:00  \n",
       "39      backend-phase1 4 days 14:16:00  \n",
       "225  fullstack-phase-1 4 days 11:13:00  \n",
       "65       system-issues 4 days 01:31:00  \n",
       "102  fullstack-phase-4 3 days 23:15:00  \n",
       "113     backend-phase2 3 days 23:14:00  \n",
       "9       backend-phase2 3 days 20:04:00  \n",
       "47         trial phase 3 days 08:37:00  "
      ]
     },
     "execution_count": 24,
     "metadata": {},
     "output_type": "execute_result"
    }
   ],
   "source": [
    "df.head(10)"
   ]
  },
  {
   "cell_type": "markdown",
   "id": "305538bf",
   "metadata": {},
   "source": [
    "# 6. Which Phase of Project is having highest Queries?\n"
   ]
  },
  {
   "cell_type": "code",
   "execution_count": 25,
   "id": "79c872d8",
   "metadata": {},
   "outputs": [
    {
     "data": {
      "text/html": [
       "<div>\n",
       "<style scoped>\n",
       "    .dataframe tbody tr th:only-of-type {\n",
       "        vertical-align: middle;\n",
       "    }\n",
       "\n",
       "    .dataframe tbody tr th {\n",
       "        vertical-align: top;\n",
       "    }\n",
       "\n",
       "    .dataframe thead th {\n",
       "        text-align: right;\n",
       "    }\n",
       "</style>\n",
       "<table border=\"1\" class=\"dataframe\">\n",
       "  <thead>\n",
       "    <tr style=\"text-align: right;\">\n",
       "      <th></th>\n",
       "      <th>Project Phase</th>\n",
       "      <th>count</th>\n",
       "    </tr>\n",
       "  </thead>\n",
       "  <tbody>\n",
       "    <tr>\n",
       "      <th>0</th>\n",
       "      <td>fullstack-phase-2</td>\n",
       "      <td>96</td>\n",
       "    </tr>\n",
       "  </tbody>\n",
       "</table>\n",
       "</div>"
      ],
      "text/plain": [
       "       Project Phase  count\n",
       "0  fullstack-phase-2     96"
      ]
     },
     "execution_count": 25,
     "metadata": {},
     "output_type": "execute_result"
    }
   ],
   "source": [
    "\n",
    "df[\"Project Phase\"].value_counts().reset_index().iloc[0:1]\n"
   ]
  },
  {
   "cell_type": "code",
   "execution_count": null,
   "metadata": {},
   "outputs": [],
   "source": []
  },
  {
   "cell_type": "code",
   "execution_count": 26,
   "id": "848c0436",
   "metadata": {},
   "outputs": [
    {
     "data": {
      "image/png": "[encoded data removed]",
      "text/plain": [
       "<Figure size 640x480 with 1 Axes>"
      ]
     },
     "metadata": {},
     "output_type": "display_data"
    }
   ],
   "source": [
    "b=df[\"Project Phase\"].value_counts().index\n",
    "sns.barplot(x=df[\"Project Phase\"].value_counts(),y=b)\n",
    "plt.show()\n"
   ]
  },
  {
   "cell_type": "code",
   "execution_count": null,
   "id": "d4213e0e",
   "metadata": {},
   "outputs": [],
   "source": []
  },
  {
   "cell_type": "markdown",
   "id": "ee5d115f",
   "metadata": {},
   "source": [
    "# 7.Which project phase queries are taking a long time to resolve?"
   ]
  },
  {
   "cell_type": "code",
   "execution_count": 27,
   "id": "29972d69",
   "metadata": {},
   "outputs": [],
   "source": [
    "df[\"time\"]=df[\"Ticket Closed Time\"]-df[\"First Response Time\"]"
   ]
  },
  {
   "cell_type": "code",
   "execution_count": 28,
   "id": "009b98ad",
   "metadata": {},
   "outputs": [],
   "source": [
    "df[\"time\"]=df[\"Ticket Closed Time\"]-df[\"Created Time (Ticket)\"]"
   ]
  },
  {
   "cell_type": "code",
   "execution_count": 29,
   "id": "75ff66be",
   "metadata": {},
   "outputs": [
    {
     "data": {
      "text/html": [
       "<div>\n",
       "<style scoped>\n",
       "    .dataframe tbody tr th:only-of-type {\n",
       "        vertical-align: middle;\n",
       "    }\n",
       "\n",
       "    .dataframe tbody tr th {\n",
       "        vertical-align: top;\n",
       "    }\n",
       "\n",
       "    .dataframe thead th {\n",
       "        text-align: right;\n",
       "    }\n",
       "</style>\n",
       "<table border=\"1\" class=\"dataframe\">\n",
       "  <thead>\n",
       "    <tr style=\"text-align: right;\">\n",
       "      <th></th>\n",
       "      <th>Ticket Id</th>\n",
       "      <th>Student or WP</th>\n",
       "      <th>Program Name</th>\n",
       "      <th>Status (Ticket)</th>\n",
       "      <th>Created Time (Ticket)</th>\n",
       "      <th>Ticket Closed Time</th>\n",
       "      <th>First Response Time</th>\n",
       "      <th>Project Phase</th>\n",
       "      <th>duration</th>\n",
       "      <th>time</th>\n",
       "    </tr>\n",
       "  </thead>\n",
       "  <tbody>\n",
       "    <tr>\n",
       "      <th>41</th>\n",
       "      <td>6525.0</td>\n",
       "      <td>Student</td>\n",
       "      <td>Fullstack Program</td>\n",
       "      <td>Closed</td>\n",
       "      <td>2021-05-14 23:03:00</td>\n",
       "      <td>2021-05-21 17:53:00</td>\n",
       "      <td>2021-05-15 11:38:00</td>\n",
       "      <td>fullstack-phase-1</td>\n",
       "      <td>6 days 18:50:00</td>\n",
       "      <td>6 days 18:50:00</td>\n",
       "    </tr>\n",
       "    <tr>\n",
       "      <th>179</th>\n",
       "      <td>6748.0</td>\n",
       "      <td>Working Professionals</td>\n",
       "      <td>Backend Program</td>\n",
       "      <td>Closed</td>\n",
       "      <td>2021-05-16 20:49:00</td>\n",
       "      <td>2021-05-21 17:44:00</td>\n",
       "      <td>2021-05-18 18:16:00</td>\n",
       "      <td>backend-phase-3</td>\n",
       "      <td>4 days 20:55:00</td>\n",
       "      <td>4 days 20:55:00</td>\n",
       "    </tr>\n",
       "  </tbody>\n",
       "</table>\n",
       "</div>"
      ],
      "text/plain": [
       "     Ticket Id          Student or WP       Program Name Status (Ticket)  \\\n",
       "41      6525.0                Student  Fullstack Program          Closed   \n",
       "179     6748.0  Working Professionals    Backend Program          Closed   \n",
       "\n",
       "    Created Time (Ticket)  Ticket Closed Time First Response Time  \\\n",
       "41    2021-05-14 23:03:00 2021-05-21 17:53:00 2021-05-15 11:38:00   \n",
       "179   2021-05-16 20:49:00 2021-05-21 17:44:00 2021-05-18 18:16:00   \n",
       "\n",
       "         Project Phase        duration            time  \n",
       "41   fullstack-phase-1 6 days 18:50:00 6 days 18:50:00  \n",
       "179    backend-phase-3 4 days 20:55:00 4 days 20:55:00  "
      ]
     },
     "execution_count": 29,
     "metadata": {},
     "output_type": "execute_result"
    }
   ],
   "source": [
    "df.head(2)"
   ]
  },
  {
   "cell_type": "code",
   "execution_count": 30,
   "id": "82034ae3",
   "metadata": {},
   "outputs": [
    {
     "data": {
      "text/html": [
       "<div>\n",
       "<style scoped>\n",
       "    .dataframe tbody tr th:only-of-type {\n",
       "        vertical-align: middle;\n",
       "    }\n",
       "\n",
       "    .dataframe tbody tr th {\n",
       "        vertical-align: top;\n",
       "    }\n",
       "\n",
       "    .dataframe thead th {\n",
       "        text-align: right;\n",
       "    }\n",
       "</style>\n",
       "<table border=\"1\" class=\"dataframe\">\n",
       "  <thead>\n",
       "    <tr style=\"text-align: right;\">\n",
       "      <th></th>\n",
       "      <th>time</th>\n",
       "    </tr>\n",
       "    <tr>\n",
       "      <th>Project Phase</th>\n",
       "      <th></th>\n",
       "    </tr>\n",
       "  </thead>\n",
       "  <tbody>\n",
       "    <tr>\n",
       "      <th>fullstack-phase-1</th>\n",
       "      <td>79 days 04:45:59.358974464</td>\n",
       "    </tr>\n",
       "    <tr>\n",
       "      <th>fullstack-phase-2</th>\n",
       "      <td>78 days 21:10:58.076923392</td>\n",
       "    </tr>\n",
       "    <tr>\n",
       "      <th>system-issues</th>\n",
       "      <td>52 days 07:10:58.717948928</td>\n",
       "    </tr>\n",
       "    <tr>\n",
       "      <th>backend-phase2</th>\n",
       "      <td>37 days 19:52:00</td>\n",
       "    </tr>\n",
       "    <tr>\n",
       "      <th>fellowship-phase-1</th>\n",
       "      <td>36 days 11:11:59.358974464</td>\n",
       "    </tr>\n",
       "    <tr>\n",
       "      <th>backend-phase1</th>\n",
       "      <td>27 days 06:02:00</td>\n",
       "    </tr>\n",
       "    <tr>\n",
       "      <th>trial phase</th>\n",
       "      <td>25 days 02:45:00</td>\n",
       "    </tr>\n",
       "    <tr>\n",
       "      <th>fullstack-phase-4</th>\n",
       "      <td>24 days 13:42:59.358974464</td>\n",
       "    </tr>\n",
       "    <tr>\n",
       "      <th>fullstack-phase-3</th>\n",
       "      <td>18 days 16:26:00</td>\n",
       "    </tr>\n",
       "    <tr>\n",
       "      <th>backend-phase-3</th>\n",
       "      <td>17 days 18:41:00</td>\n",
       "    </tr>\n",
       "  </tbody>\n",
       "</table>\n",
       "</div>"
      ],
      "text/plain": [
       "                                         time\n",
       "Project Phase                                \n",
       "fullstack-phase-1  79 days 04:45:59.358974464\n",
       "fullstack-phase-2  78 days 21:10:58.076923392\n",
       "system-issues      52 days 07:10:58.717948928\n",
       "backend-phase2               37 days 19:52:00\n",
       "fellowship-phase-1 36 days 11:11:59.358974464\n",
       "backend-phase1               27 days 06:02:00\n",
       "trial phase                  25 days 02:45:00\n",
       "fullstack-phase-4  24 days 13:42:59.358974464\n",
       "fullstack-phase-3            18 days 16:26:00\n",
       "backend-phase-3              17 days 18:41:00"
      ]
     },
     "execution_count": 30,
     "metadata": {},
     "output_type": "execute_result"
    }
   ],
   "source": [
    "df[[\"time\",\"Project Phase\"]].groupby(by=\"Project Phase\").sum().sort_values(by=\"time\",ascending=False)"
   ]
  },
  {
   "cell_type": "markdown",
   "id": "21dd42ac",
   "metadata": {},
   "source": [
    "### fullstack phase-2  project phase is taking longest time to resolve"
   ]
  },
  {
   "cell_type": "markdown",
   "id": "dbad8b72",
   "metadata": {},
   "source": [
    "# 8. On which day highest queries were resolved?\n"
   ]
  },
  {
   "cell_type": "code",
   "execution_count": 31,
   "id": "e34cf12f",
   "metadata": {},
   "outputs": [],
   "source": [
    "df[\"ticket_close\"]=df[\"Ticket Closed Time\"].apply(lambda x:x.strftime(\"%d-%m-%Y\"))"
   ]
  },
  {
   "cell_type": "code",
   "execution_count": 32,
   "metadata": {},
   "outputs": [
    {
     "name": "stdout",
     "output_type": "stream",
     "text": [
      "18-05-2021\n"
     ]
    }
   ],
   "source": [
    "from datetime import datetime\n",
    "\n",
    "a = '2021-05-18 19:24:00'\n",
    "datetime_object = datetime.strptime(a, \"%Y-%m-%d %H:%M:%S\")\n",
    "\n",
    "formatted_date = datetime_object.strftime(\"%d-%m-%Y\")\n",
    "print(formatted_date)\n"
   ]
  },
  {
   "cell_type": "code",
   "execution_count": 33,
   "metadata": {},
   "outputs": [
    {
     "data": {
      "text/plain": [
       "datetime.datetime(2021, 5, 18, 19, 24)"
      ]
     },
     "execution_count": 33,
     "metadata": {},
     "output_type": "execute_result"
    }
   ],
   "source": [
    "datetime_object"
   ]
  },
  {
   "cell_type": "code",
   "execution_count": 34,
   "id": "b8210862",
   "metadata": {},
   "outputs": [
    {
     "data": {
      "text/html": [
       "<div>\n",
       "<style scoped>\n",
       "    .dataframe tbody tr th:only-of-type {\n",
       "        vertical-align: middle;\n",
       "    }\n",
       "\n",
       "    .dataframe tbody tr th {\n",
       "        vertical-align: top;\n",
       "    }\n",
       "\n",
       "    .dataframe thead th {\n",
       "        text-align: right;\n",
       "    }\n",
       "</style>\n",
       "<table border=\"1\" class=\"dataframe\">\n",
       "  <thead>\n",
       "    <tr style=\"text-align: right;\">\n",
       "      <th></th>\n",
       "      <th>Ticket Id</th>\n",
       "      <th>Student or WP</th>\n",
       "      <th>Program Name</th>\n",
       "      <th>Status (Ticket)</th>\n",
       "      <th>Created Time (Ticket)</th>\n",
       "      <th>Ticket Closed Time</th>\n",
       "      <th>First Response Time</th>\n",
       "      <th>Project Phase</th>\n",
       "      <th>duration</th>\n",
       "      <th>time</th>\n",
       "      <th>ticket_close</th>\n",
       "    </tr>\n",
       "  </thead>\n",
       "  <tbody>\n",
       "    <tr>\n",
       "      <th>41</th>\n",
       "      <td>6525.0</td>\n",
       "      <td>Student</td>\n",
       "      <td>Fullstack Program</td>\n",
       "      <td>Closed</td>\n",
       "      <td>2021-05-14 23:03:00</td>\n",
       "      <td>2021-05-21 17:53:00</td>\n",
       "      <td>2021-05-15 11:38:00</td>\n",
       "      <td>fullstack-phase-1</td>\n",
       "      <td>6 days 18:50:00</td>\n",
       "      <td>6 days 18:50:00</td>\n",
       "      <td>21-05-2021</td>\n",
       "    </tr>\n",
       "    <tr>\n",
       "      <th>179</th>\n",
       "      <td>6748.0</td>\n",
       "      <td>Working Professionals</td>\n",
       "      <td>Backend Program</td>\n",
       "      <td>Closed</td>\n",
       "      <td>2021-05-16 20:49:00</td>\n",
       "      <td>2021-05-21 17:44:00</td>\n",
       "      <td>2021-05-18 18:16:00</td>\n",
       "      <td>backend-phase-3</td>\n",
       "      <td>4 days 20:55:00</td>\n",
       "      <td>4 days 20:55:00</td>\n",
       "      <td>21-05-2021</td>\n",
       "    </tr>\n",
       "  </tbody>\n",
       "</table>\n",
       "</div>"
      ],
      "text/plain": [
       "     Ticket Id          Student or WP       Program Name Status (Ticket)  \\\n",
       "41      6525.0                Student  Fullstack Program          Closed   \n",
       "179     6748.0  Working Professionals    Backend Program          Closed   \n",
       "\n",
       "    Created Time (Ticket)  Ticket Closed Time First Response Time  \\\n",
       "41    2021-05-14 23:03:00 2021-05-21 17:53:00 2021-05-15 11:38:00   \n",
       "179   2021-05-16 20:49:00 2021-05-21 17:44:00 2021-05-18 18:16:00   \n",
       "\n",
       "         Project Phase        duration            time ticket_close  \n",
       "41   fullstack-phase-1 6 days 18:50:00 6 days 18:50:00   21-05-2021  \n",
       "179    backend-phase-3 4 days 20:55:00 4 days 20:55:00   21-05-2021  "
      ]
     },
     "execution_count": 34,
     "metadata": {},
     "output_type": "execute_result"
    }
   ],
   "source": [
    "df.head(2)"
   ]
  },
  {
   "cell_type": "code",
   "execution_count": 35,
   "id": "4cea9a60",
   "metadata": {},
   "outputs": [
    {
     "data": {
      "text/plain": [
       "ticket_close\n",
       "18-05-2021    135\n",
       "19-05-2021     91\n",
       "16-05-2021     75\n",
       "20-05-2021     66\n",
       "17-05-2021     55\n",
       "14-05-2021     23\n",
       "21-05-2021     19\n",
       "15-05-2021     11\n",
       "22-05-2021      1\n",
       "Name: count, dtype: int64"
      ]
     },
     "execution_count": 35,
     "metadata": {},
     "output_type": "execute_result"
    }
   ],
   "source": [
    "df[\"ticket_close\"].value_counts()"
   ]
  },
  {
   "cell_type": "code",
   "execution_count": 36,
   "id": "384a997c",
   "metadata": {},
   "outputs": [
    {
     "data": {
      "image/png": "[encoded data removed]",
      "text/plain": [
       "<Figure size 640x480 with 1 Axes>"
      ]
     },
     "metadata": {},
     "output_type": "display_data"
    }
   ],
   "source": [
    "c=df[\"ticket_close\"].value_counts().index\n",
    "sns.barplot(x=df[\"ticket_close\"].value_counts(),y=c)\n",
    "plt.show()"
   ]
  },
  {
   "cell_type": "markdown",
   "id": "4ddb4c24",
   "metadata": {},
   "source": [
    "### on date 18-05-2021 127 queries get solved"
   ]
  },
  {
   "cell_type": "markdown",
   "id": "2f5d1741",
   "metadata": {},
   "source": [
    "# 9. Which phase queries are easier to resolve?"
   ]
  },
  {
   "cell_type": "code",
   "execution_count": 37,
   "id": "5c93f18e",
   "metadata": {},
   "outputs": [],
   "source": [
    "df[\"easy_solve\"]=df[\"Ticket Closed Time\"]-df[\"Created Time (Ticket)\"]"
   ]
  },
  {
   "cell_type": "code",
   "execution_count": 38,
   "id": "7b92111d",
   "metadata": {
    "scrolled": true
   },
   "outputs": [
    {
     "name": "stdout",
     "output_type": "stream",
     "text": [
      "                                   easy_solve\n",
      "Project Phase                                \n",
      "backend-phase-3              17 days 18:41:00\n",
      "fullstack-phase-3            18 days 16:26:00\n",
      "fullstack-phase-4  24 days 13:42:59.358974464\n",
      "trial phase                  25 days 02:45:00\n",
      "backend-phase1               27 days 06:02:00\n",
      "fellowship-phase-1 36 days 11:11:59.358974464\n",
      "backend-phase2               37 days 19:52:00\n",
      "system-issues      52 days 07:10:58.717948928\n",
      "fullstack-phase-2  78 days 21:10:58.076923392\n",
      "fullstack-phase-1  79 days 04:45:59.358974464\n"
     ]
    }
   ],
   "source": [
    "print(df[[\"Project Phase\",\"easy_solve\"]].groupby(by=\"Project Phase\").sum().sort_values(by=\"easy_solve\"))\n",
    "\n",
    "\n"
   ]
  },
  {
   "cell_type": "code",
   "execution_count": 39,
   "metadata": {},
   "outputs": [
    {
     "data": {
      "text/html": [
       "<div>\n",
       "<style scoped>\n",
       "    .dataframe tbody tr th:only-of-type {\n",
       "        vertical-align: middle;\n",
       "    }\n",
       "\n",
       "    .dataframe tbody tr th {\n",
       "        vertical-align: top;\n",
       "    }\n",
       "\n",
       "    .dataframe thead th {\n",
       "        text-align: right;\n",
       "    }\n",
       "</style>\n",
       "<table border=\"1\" class=\"dataframe\">\n",
       "  <thead>\n",
       "    <tr style=\"text-align: right;\">\n",
       "      <th></th>\n",
       "      <th>easy_solve</th>\n",
       "    </tr>\n",
       "    <tr>\n",
       "      <th>Project Phase</th>\n",
       "      <th></th>\n",
       "    </tr>\n",
       "  </thead>\n",
       "  <tbody>\n",
       "    <tr>\n",
       "      <th>backend-phase-3</th>\n",
       "      <td>17 days 18:41:00</td>\n",
       "    </tr>\n",
       "    <tr>\n",
       "      <th>backend-phase1</th>\n",
       "      <td>27 days 06:02:00</td>\n",
       "    </tr>\n",
       "    <tr>\n",
       "      <th>backend-phase2</th>\n",
       "      <td>37 days 19:52:00</td>\n",
       "    </tr>\n",
       "    <tr>\n",
       "      <th>fellowship-phase-1</th>\n",
       "      <td>36 days 11:11:59.358974464</td>\n",
       "    </tr>\n",
       "    <tr>\n",
       "      <th>fullstack-phase-1</th>\n",
       "      <td>79 days 04:45:59.358974464</td>\n",
       "    </tr>\n",
       "    <tr>\n",
       "      <th>fullstack-phase-2</th>\n",
       "      <td>78 days 21:10:58.076923392</td>\n",
       "    </tr>\n",
       "    <tr>\n",
       "      <th>fullstack-phase-3</th>\n",
       "      <td>18 days 16:26:00</td>\n",
       "    </tr>\n",
       "    <tr>\n",
       "      <th>fullstack-phase-4</th>\n",
       "      <td>24 days 13:42:59.358974464</td>\n",
       "    </tr>\n",
       "    <tr>\n",
       "      <th>system-issues</th>\n",
       "      <td>52 days 07:10:58.717948928</td>\n",
       "    </tr>\n",
       "    <tr>\n",
       "      <th>trial phase</th>\n",
       "      <td>25 days 02:45:00</td>\n",
       "    </tr>\n",
       "  </tbody>\n",
       "</table>\n",
       "</div>"
      ],
      "text/plain": [
       "                                   easy_solve\n",
       "Project Phase                                \n",
       "backend-phase-3              17 days 18:41:00\n",
       "backend-phase1               27 days 06:02:00\n",
       "backend-phase2               37 days 19:52:00\n",
       "fellowship-phase-1 36 days 11:11:59.358974464\n",
       "fullstack-phase-1  79 days 04:45:59.358974464\n",
       "fullstack-phase-2  78 days 21:10:58.076923392\n",
       "fullstack-phase-3            18 days 16:26:00\n",
       "fullstack-phase-4  24 days 13:42:59.358974464\n",
       "system-issues      52 days 07:10:58.717948928\n",
       "trial phase                  25 days 02:45:00"
      ]
     },
     "execution_count": 39,
     "metadata": {},
     "output_type": "execute_result"
    }
   ],
   "source": [
    "df[[\"Project Phase\",\"easy_solve\"]].groupby('Project Phase').sum()\n"
   ]
  },
  {
   "cell_type": "code",
   "execution_count": 40,
   "metadata": {},
   "outputs": [
    {
     "data": {
      "text/html": [
       "<div>\n",
       "<style scoped>\n",
       "    .dataframe tbody tr th:only-of-type {\n",
       "        vertical-align: middle;\n",
       "    }\n",
       "\n",
       "    .dataframe tbody tr th {\n",
       "        vertical-align: top;\n",
       "    }\n",
       "\n",
       "    .dataframe thead th {\n",
       "        text-align: right;\n",
       "    }\n",
       "</style>\n",
       "<table border=\"1\" class=\"dataframe\">\n",
       "  <thead>\n",
       "    <tr style=\"text-align: right;\">\n",
       "      <th></th>\n",
       "      <th></th>\n",
       "      <th>easy_solve</th>\n",
       "    </tr>\n",
       "    <tr>\n",
       "      <th>Program Name</th>\n",
       "      <th>Project Phase</th>\n",
       "      <th></th>\n",
       "    </tr>\n",
       "  </thead>\n",
       "  <tbody>\n",
       "    <tr>\n",
       "      <th rowspan=\"8\" valign=\"top\">Backend Program</th>\n",
       "      <th>backend-phase-3</th>\n",
       "      <td>17 days 18:41:00</td>\n",
       "    </tr>\n",
       "    <tr>\n",
       "      <th>backend-phase1</th>\n",
       "      <td>27 days 06:02:00</td>\n",
       "    </tr>\n",
       "    <tr>\n",
       "      <th>backend-phase2</th>\n",
       "      <td>37 days 19:52:00</td>\n",
       "    </tr>\n",
       "    <tr>\n",
       "      <th>fellowship-phase-1</th>\n",
       "      <td>2 days 03:18:00</td>\n",
       "    </tr>\n",
       "    <tr>\n",
       "      <th>fullstack-phase-1</th>\n",
       "      <td>7 days 19:52:00</td>\n",
       "    </tr>\n",
       "    <tr>\n",
       "      <th>fullstack-phase-2</th>\n",
       "      <td>12 days 19:00:00</td>\n",
       "    </tr>\n",
       "    <tr>\n",
       "      <th>system-issues</th>\n",
       "      <td>30 days 04:13:59.358974464</td>\n",
       "    </tr>\n",
       "    <tr>\n",
       "      <th>trial phase</th>\n",
       "      <td>13 days 03:05:00</td>\n",
       "    </tr>\n",
       "    <tr>\n",
       "      <th rowspan=\"4\" valign=\"top\">Fellowship Program</th>\n",
       "      <th>fellowship-phase-1</th>\n",
       "      <td>32 days 06:52:59.358974464</td>\n",
       "    </tr>\n",
       "    <tr>\n",
       "      <th>fullstack-phase-1</th>\n",
       "      <td>-1 days +06:04:59.358974464</td>\n",
       "    </tr>\n",
       "    <tr>\n",
       "      <th>system-issues</th>\n",
       "      <td>3 days 22:37:59.358974464</td>\n",
       "    </tr>\n",
       "    <tr>\n",
       "      <th>trial phase</th>\n",
       "      <td>0 days 08:22:00</td>\n",
       "    </tr>\n",
       "    <tr>\n",
       "      <th rowspan=\"7\" valign=\"top\">Fullstack Program</th>\n",
       "      <th>fellowship-phase-1</th>\n",
       "      <td>2 days 01:01:00</td>\n",
       "    </tr>\n",
       "    <tr>\n",
       "      <th>fullstack-phase-1</th>\n",
       "      <td>72 days 02:49:00</td>\n",
       "    </tr>\n",
       "    <tr>\n",
       "      <th>fullstack-phase-2</th>\n",
       "      <td>66 days 02:10:58.076923392</td>\n",
       "    </tr>\n",
       "    <tr>\n",
       "      <th>fullstack-phase-3</th>\n",
       "      <td>18 days 16:26:00</td>\n",
       "    </tr>\n",
       "    <tr>\n",
       "      <th>fullstack-phase-4</th>\n",
       "      <td>24 days 13:42:59.358974464</td>\n",
       "    </tr>\n",
       "    <tr>\n",
       "      <th>system-issues</th>\n",
       "      <td>18 days 04:19:00</td>\n",
       "    </tr>\n",
       "    <tr>\n",
       "      <th>trial phase</th>\n",
       "      <td>11 days 15:18:00</td>\n",
       "    </tr>\n",
       "  </tbody>\n",
       "</table>\n",
       "</div>"
      ],
      "text/plain": [
       "                                                       easy_solve\n",
       "Program Name       Project Phase                                 \n",
       "Backend Program    backend-phase-3               17 days 18:41:00\n",
       "                   backend-phase1                27 days 06:02:00\n",
       "                   backend-phase2                37 days 19:52:00\n",
       "                   fellowship-phase-1             2 days 03:18:00\n",
       "                   fullstack-phase-1              7 days 19:52:00\n",
       "                   fullstack-phase-2             12 days 19:00:00\n",
       "                   system-issues       30 days 04:13:59.358974464\n",
       "                   trial phase                   13 days 03:05:00\n",
       "Fellowship Program fellowship-phase-1  32 days 06:52:59.358974464\n",
       "                   fullstack-phase-1  -1 days +06:04:59.358974464\n",
       "                   system-issues        3 days 22:37:59.358974464\n",
       "                   trial phase                    0 days 08:22:00\n",
       "Fullstack Program  fellowship-phase-1             2 days 01:01:00\n",
       "                   fullstack-phase-1             72 days 02:49:00\n",
       "                   fullstack-phase-2   66 days 02:10:58.076923392\n",
       "                   fullstack-phase-3             18 days 16:26:00\n",
       "                   fullstack-phase-4   24 days 13:42:59.358974464\n",
       "                   system-issues                 18 days 04:19:00\n",
       "                   trial phase                   11 days 15:18:00"
      ]
     },
     "execution_count": 40,
     "metadata": {},
     "output_type": "execute_result"
    }
   ],
   "source": [
    "df[['Program Name','Project Phase','easy_solve']].groupby(['Program Name','Project Phase']).sum()\n"
   ]
  },
  {
   "cell_type": "markdown",
   "id": "f7060384",
   "metadata": {},
   "source": [
    "### backend phase  project phase is easy to solve "
   ]
  },
  {
   "cell_type": "markdown",
   "id": "6ed1e83a",
   "metadata": {},
   "source": [
    "# 10.Provide Conclusion for your analysis."
   ]
  },
  {
   "cell_type": "markdown",
   "id": "8b9afd06",
   "metadata": {},
   "source": [
    "#### As per dataset provided, we have some queries to figure out from the dataset. in the dataset there is more working professional than student thats why their query is also more.average time for figuring out the query is about 10hrs which is great. 4 out of top 10 queries which took more time to resolve are system issue.on the date 18-05-2021 127 queries solved and in last most easy query to resolve was backend-phase-3.\n",
    "  "
   ]
  }
 ],
 "metadata": {
  "kernelspec": {
   "display_name": "Python 3",
   "language": "python",
   "name": "python3"
  },
  "language_info": {
   "codemirror_mode": {
    "name": "ipython",
    "version": 3
   },
   "file_extension": ".py",
   "mimetype": "text/x-python",
   "name": "python",
   "nbconvert_exporter": "python",
   "pygments_lexer": "ipython3",
   "version": "3.11.4"
  }
 },
 "nbformat": 4,
 "nbformat_minor": 5
}
